{
  "nbformat": 4,
  "nbformat_minor": 0,
  "metadata": {
    "colab": {
      "provenance": [],
      "mount_file_id": "1krgudWGVbIxZ08NIP3s6NSTyl3NRMDT5",
      "authorship_tag": "ABX9TyMs48zF6rXu1d14lhiU89Ux",
      "include_colab_link": true
    },
    "kernelspec": {
      "name": "python3",
      "display_name": "Python 3"
    },
    "language_info": {
      "name": "python"
    }
  },
  "cells": [
    {
      "cell_type": "markdown",
      "metadata": {
        "id": "view-in-github",
        "colab_type": "text"
      },
      "source": [
        "<a href=\"https://colab.research.google.com/github/Patel-Aman/data_science_basics/blob/main/comparison.ipynb\" target=\"_parent\"><img src=\"https://colab.research.google.com/assets/colab-badge.svg\" alt=\"Open In Colab\"/></a>"
      ]
    },
    {
      "cell_type": "code",
      "metadata": {
        "id": "A3-XtmNMt5SW"
      },
      "source": [
        "#import libraries and training data\n",
        "\n",
        "print('Importing Data and libraries...')\n",
        "import pandas as pd\n",
        "import numpy as np\n",
        "from sklearn.model_selection import train_test_split\n",
        "from sklearn.model_selection import GridSearchCV\n",
        "from sklearn.metrics import classification_report,confusion_matrix\n",
        "from sklearn.svm import SVC\n",
        "from sklearn.neighbors import KNeighborsClassifier\n",
        "from sklearn.tree import DecisionTreeClassifier\n",
        "from sklearn.preprocessing import StandardScaler\n",
        "from sklearn.linear_model import LogisticRegression\n",
        "\n",
        "X = pd.read_csv('/content/drive/MyDrive/competion1/traindata - traindata.csv')\n",
        "y = pd.read_csv('/content/drive/MyDrive/competion1/trainlabel - trainlabel.csv')\n",
        "Xt = pd.read_csv('/content/drive/MyDrive/competion1/testdata - testdata.csv')\n",
        "print('Done')"
      ],
      "execution_count": null,
      "outputs": []
    },
    {
      "cell_type": "code",
      "metadata": {
        "id": "46MbmkYEuDd4"
      },
      "source": [
        "#Convert data from string to list format into dataframe\n",
        "\n",
        "dummy = list(X.features)\n",
        "for i in range(len(dummy)):\n",
        "    dummy[i] = list(map(float, dummy[i][1:-1].split(\",\")))\n",
        "\n",
        "dum = list(Xt.features)\n",
        "for i in range(len(dum)):\n",
        "    dum[i] = list(map(float, dum[i][1:-1].split(\",\")))\n",
        "\n",
        "# Make dataframe\n",
        "\n",
        "data = pd.DataFrame(dummy)\n",
        "test = pd.DataFrame(dum)"
      ],
      "execution_count": null,
      "outputs": []
    },
    {
      "cell_type": "markdown",
      "metadata": {
        "id": "PRRAQI5v6gjR"
      },
      "source": [
        "SVM"
      ]
    },
    {
      "cell_type": "code",
      "metadata": {
        "id": "9n4Ugzo4uZmm"
      },
      "source": [
        "# data reduction\n",
        "np.random.seed(143)\n",
        "X_train, X_test, y_train, y_test = train_test_split(data, y.labels, test_size=0.1)"
      ],
      "execution_count": null,
      "outputs": []
    },
    {
      "cell_type": "code",
      "metadata": {
        "id": "0syh74bFu-y2"
      },
      "source": [
        "# grid search to check best parameters\n",
        "\n",
        "parameters = {'gamma' : (0.01, 0.0001, 0.1, 1.0, 10, 'scale', 'auto'), 'C' : (0.0001, 0.001, 0.01, 0.1, 1.0, 10, 100, 1000), 'kernel' : ('rbf', 'poly', 'sigmoid')}\n",
        "\n",
        "svc = SVC()\n",
        "clf = GridSearchCV(svc, parameters)\n",
        "clf.fit(data, y.labels)\n",
        "\n",
        "clf.best_params_"
      ],
      "execution_count": null,
      "outputs": []
    },
    {
      "cell_type": "code",
      "metadata": {
        "colab": {
          "base_uri": "https://localhost:8080/"
        },
        "id": "bBF0hiBsu4rk",
        "outputId": "57e56f77-0ec4-4f02-b47c-0d011145e8a3"
      },
      "source": [
        "# train model using\n",
        "\n",
        "model = SVC(C=10)\n",
        "\n",
        "model.fit(X_train, y_train)"
      ],
      "execution_count": null,
      "outputs": [
        {
          "output_type": "execute_result",
          "data": {
            "text/plain": [
              "SVC(C=10, break_ties=False, cache_size=200, class_weight=None, coef0=0.0,\n",
              "    decision_function_shape='ovr', degree=3, gamma='scale', kernel='rbf',\n",
              "    max_iter=-1, probability=False, random_state=None, shrinking=True,\n",
              "    tol=0.001, verbose=False)"
            ]
          },
          "metadata": {},
          "execution_count": 137
        }
      ]
    },
    {
      "cell_type": "code",
      "metadata": {
        "colab": {
          "base_uri": "https://localhost:8080/"
        },
        "id": "lwv5T4atvMge",
        "outputId": "e0839ab9-a514-4486-d65a-ebb1b060fdf5"
      },
      "source": [
        "# check accuracy of model only for trial\n",
        "\n",
        "pred_svm = model.predict(X_test)\n",
        "\n",
        "print(confusion_matrix(y_test,pred_svm))\n",
        "print(classification_report(y_test,pred_svm))"
      ],
      "execution_count": null,
      "outputs": [
        {
          "output_type": "stream",
          "name": "stdout",
          "text": [
            "[[23  0  0  0  0  0  0  0]\n",
            " [ 0 29  0  0  0  0  0  0]\n",
            " [ 0  0 23  1  1  1  0  0]\n",
            " [ 2  0  2 15  0  4  0  1]\n",
            " [ 0  0  0  0 27  0  0  0]\n",
            " [ 2  0  0  2  0 16  0  2]\n",
            " [ 1  0  0  0  0  1 20  0]\n",
            " [ 0  0  0  0  1  0  0 26]]\n",
            "              precision    recall  f1-score   support\n",
            "\n",
            "           0       0.82      1.00      0.90        23\n",
            "           1       1.00      1.00      1.00        29\n",
            "           2       0.92      0.88      0.90        26\n",
            "           3       0.83      0.62      0.71        24\n",
            "           4       0.93      1.00      0.96        27\n",
            "           5       0.73      0.73      0.73        22\n",
            "           6       1.00      0.91      0.95        22\n",
            "           7       0.90      0.96      0.93        27\n",
            "\n",
            "    accuracy                           0.90       200\n",
            "   macro avg       0.89      0.89      0.89       200\n",
            "weighted avg       0.90      0.90      0.89       200\n",
            "\n"
          ]
        }
      ]
    },
    {
      "cell_type": "code",
      "metadata": {
        "id": "Fm68146-vG9M"
      },
      "source": [
        "#save data in csv format\n",
        "\n",
        "pred_svm = model.predict(test)\n",
        "\n",
        "df = pd.DataFrame(pred_svm)\n",
        "df.insert(0, 'index', range(df.shape[0]), True)\n",
        "df.rename(columns={0: \"labels\"}, inplace=True)\n",
        "df.reset_index()\n",
        "# saving the dataframe\n",
        "df.to_csv('B20ME055_svm_final2.csv', index=False)"
      ],
      "execution_count": null,
      "outputs": []
    },
    {
      "cell_type": "markdown",
      "metadata": {
        "id": "_iNqZIfO6naS"
      },
      "source": [
        "K-NN"
      ]
    },
    {
      "cell_type": "code",
      "metadata": {
        "id": "HSWy3qiNN2o8"
      },
      "source": [
        "knn = KNeighborsClassifier()\n",
        "\n",
        "parameters = {'n_neighbors' : (1, 3, 5, 7, 9, 11, 13, 15, 17, 18, 19, 20), 'weights' : ('uniform', 'distance'), 'algorithm' : ('auto', 'ball_tree', 'kd_tree', 'brute')}\n",
        "\n",
        "clf = GridSearchCV(knn, parameters)\n",
        "clf.fit(data, y.labels)\n",
        "\n",
        "clf.best_params_"
      ],
      "execution_count": null,
      "outputs": []
    },
    {
      "cell_type": "code",
      "metadata": {
        "id": "7kb6BG04vXyI",
        "colab": {
          "base_uri": "https://localhost:8080/"
        },
        "outputId": "f0619a9e-aed4-44e3-b6fa-159f91f9b143"
      },
      "source": [
        "# knn at value of neighbours = 1\n",
        "\n",
        "X_train, X_test, y_train, y_test = train_test_split(data, y.labels, test_size=0.30)\n",
        "\n",
        "knn = KNeighborsClassifier(n_neighbors=1, algorithm='auto', weights='uniform')\n",
        "\n",
        "knn.fit(X_train,y_train)"
      ],
      "execution_count": null,
      "outputs": [
        {
          "output_type": "execute_result",
          "data": {
            "text/plain": [
              "KNeighborsClassifier(algorithm='auto', leaf_size=30, metric='minkowski',\n",
              "                     metric_params=None, n_jobs=None, n_neighbors=1, p=2,\n",
              "                     weights='uniform')"
            ]
          },
          "metadata": {},
          "execution_count": 42
        }
      ]
    },
    {
      "cell_type": "code",
      "metadata": {
        "colab": {
          "base_uri": "https://localhost:8080/"
        },
        "id": "ydQ8ChAgL_Ud",
        "outputId": "39e2cd58-bd50-47d8-d714-d8050f6a9329"
      },
      "source": [
        "pred_knn = knn.predict(X_test)\n",
        "print(classification_report(y_test,pred_knn))"
      ],
      "execution_count": null,
      "outputs": [
        {
          "output_type": "stream",
          "name": "stdout",
          "text": [
            "              precision    recall  f1-score   support\n",
            "\n",
            "           0       0.88      0.62      0.73        74\n",
            "           1       0.47      1.00      0.64        61\n",
            "           2       0.72      0.54      0.62        76\n",
            "           3       0.73      0.67      0.70        79\n",
            "           4       0.76      0.80      0.78        74\n",
            "           5       0.74      0.41      0.53        82\n",
            "           6       0.74      0.77      0.76        75\n",
            "           7       0.79      0.87      0.83        79\n",
            "\n",
            "    accuracy                           0.70       600\n",
            "   macro avg       0.73      0.71      0.70       600\n",
            "weighted avg       0.74      0.70      0.70       600\n",
            "\n"
          ]
        }
      ]
    },
    {
      "cell_type": "code",
      "metadata": {
        "id": "ZX9EHwSHRKWP"
      },
      "source": [
        "pred_knn = model.predict(test)\n",
        "\n",
        "df = pd.DataFrame(pred_knn)\n",
        "\n",
        "# saving the dataframe1\n",
        "df.to_csv('B20ME055_knn.csv')"
      ],
      "execution_count": null,
      "outputs": []
    },
    {
      "cell_type": "markdown",
      "metadata": {
        "id": "TvOTnx_K6rF-"
      },
      "source": [
        "Decision Tree"
      ]
    },
    {
      "cell_type": "code",
      "metadata": {
        "colab": {
          "base_uri": "https://localhost:8080/"
        },
        "id": "8t4vQNpuS5Or",
        "outputId": "70a03f22-3338-4b6b-ea6b-0e2ea08af612"
      },
      "source": [
        "dtree_model = DecisionTreeClassifier()\n",
        "\n",
        "parameters = {'max_depth' : (1, 3, 5, 7, 9, 11, 13, 15, 17, 18, 19, 20),'criterion' : ('entropy', 'gini')}\n",
        "\n",
        "clf = GridSearchCV(dtree_model, parameters)\n",
        "clf.fit(data, y.labels)\n",
        "\n",
        "clf.best_params_"
      ],
      "execution_count": null,
      "outputs": [
        {
          "output_type": "execute_result",
          "data": {
            "text/plain": [
              "{'criterion': 'gini', 'max_depth': 7}"
            ]
          },
          "metadata": {},
          "execution_count": 33
        }
      ]
    },
    {
      "cell_type": "code",
      "metadata": {
        "id": "IFkfCUf9vqYu"
      },
      "source": [
        "# decision tree\n",
        "\n",
        "dtree_model = DecisionTreeClassifier(max_depth = 7).fit(X_train, y_train)\n",
        "dtree_predictions = dtree_model.predict(X_test)"
      ],
      "execution_count": null,
      "outputs": []
    },
    {
      "cell_type": "code",
      "metadata": {
        "colab": {
          "base_uri": "https://localhost:8080/"
        },
        "id": "i3jgNwjSSBbr",
        "outputId": "293f6ab4-62b9-48fe-dcea-acd618c7521f"
      },
      "source": [
        "print(classification_report(y_test,dtree_predictions))"
      ],
      "execution_count": null,
      "outputs": [
        {
          "output_type": "stream",
          "name": "stdout",
          "text": [
            "              precision    recall  f1-score   support\n",
            "\n",
            "           0       0.56      0.45      0.50        74\n",
            "           1       0.77      0.80      0.78        61\n",
            "           2       0.68      0.66      0.67        76\n",
            "           3       0.42      0.62      0.50        79\n",
            "           4       0.94      0.78      0.85        74\n",
            "           5       0.54      0.41      0.47        82\n",
            "           6       0.66      0.69      0.68        75\n",
            "           7       0.75      0.78      0.77        79\n",
            "\n",
            "    accuracy                           0.65       600\n",
            "   macro avg       0.66      0.65      0.65       600\n",
            "weighted avg       0.66      0.65      0.65       600\n",
            "\n"
          ]
        }
      ]
    },
    {
      "cell_type": "markdown",
      "metadata": {
        "id": "Yxvzpjgu6uec"
      },
      "source": [
        "Multinomial Logistic Regression"
      ]
    },
    {
      "cell_type": "code",
      "metadata": {
        "id": "QDtfTkBIuiju"
      },
      "source": [
        "# To scale data\n",
        "\n",
        "# less accuracy when model is trained using scaled data\n",
        "\n",
        "scaler = StandardScaler()\n",
        "scaler.fit(data)\n",
        "dataScaled = scaler.transform(data)"
      ],
      "execution_count": null,
      "outputs": []
    },
    {
      "cell_type": "code",
      "metadata": {
        "id": "7YNDo6AWwOrK"
      },
      "source": [
        "model = LogisticRegression(multi_class='multinomial')\n",
        "\n",
        "X_train, X_test, y_train, y_test = train_test_split(dataScaled, y.labels, test_size=0.30)\n",
        "\n",
        "model.fit(X_train, y_train)\n",
        "pred = model.predict(X_test)\n",
        "\n",
        "print(classification_report(y_test,pred))"
      ],
      "execution_count": null,
      "outputs": []
    }
  ]
}